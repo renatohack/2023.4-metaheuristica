{
 "cells": [
  {
   "cell_type": "code",
   "execution_count": 3,
   "metadata": {},
   "outputs": [
    {
     "name": "stdout",
     "output_type": "stream",
     "text": [
      "Collecting ortools\n",
      "  Using cached ortools-9.7.2996-cp39-cp39-win_amd64.whl (44.9 MB)\n",
      "Requirement already satisfied: protobuf>=4.23.3 in c:\\python39\\lib\\site-packages (from ortools) (4.24.4)\n",
      "Collecting absl-py>=0.13\n",
      "  Using cached absl_py-2.0.0-py3-none-any.whl (130 kB)\n",
      "Requirement already satisfied: numpy>=1.13.3 in c:\\python39\\lib\\site-packages (from ortools) (1.26.1)\n",
      "Installing collected packages: absl-py, ortools\n",
      "Successfully installed absl-py-2.0.0 ortools-9.7.2996\n"
     ]
    },
    {
     "name": "stderr",
     "output_type": "stream",
     "text": [
      "WARNING: You are using pip version 21.1.3; however, version 23.3.1 is available.\n",
      "You should consider upgrading via the 'c:\\python39\\python.exe -m pip install --upgrade pip' command.\n"
     ]
    }
   ],
   "source": [
    "!pip install ortools"
   ]
  },
  {
   "cell_type": "code",
   "execution_count": 4,
   "metadata": {},
   "outputs": [],
   "source": [
    "from ortools.linear_solver import pywraplp\n",
    "solver = pywraplp.Solver.CreateSolver('GLOP')"
   ]
  },
  {
   "cell_type": "code",
   "execution_count": 5,
   "metadata": {},
   "outputs": [
    {
     "name": "stdout",
     "output_type": "stream",
     "text": [
      "Nº de variáveis = 2\n"
     ]
    }
   ],
   "source": [
    "t_1 = solver.NumVar(60, solver.infinity(), 't_1')\n",
    "t_2 = solver.NumVar(0, 250, 't_2')\n",
    "\n",
    "print('Nº de variáveis =', solver.NumVariables())"
   ]
  },
  {
   "cell_type": "code",
   "execution_count": 6,
   "metadata": {},
   "outputs": [
    {
     "name": "stdout",
     "output_type": "stream",
     "text": [
      "Nº de restrições = 3\n"
     ]
    }
   ],
   "source": [
    "solver.Add(5 * t_1 + 4 * t_2 <= 1400)\n",
    "solver.Add(t_1 >= 60)\n",
    "solver.Add(t_2 <= 250)\n",
    "\n",
    "print('Nº de restrições =', solver.NumConstraints())"
   ]
  },
  {
   "cell_type": "code",
   "execution_count": 9,
   "metadata": {},
   "outputs": [],
   "source": [
    "solver.Maximize(6 * t_1 + 5.5 * t_2)\n",
    "status = solver.Solve()"
   ]
  },
  {
   "cell_type": "code",
   "execution_count": 10,
   "metadata": {},
   "outputs": [
    {
     "name": "stdout",
     "output_type": "stream",
     "text": [
      "Solução:\n",
      "Valor da função objetivo = 1855.0\n",
      "t_1 = 80.0\n",
      "t_2 = 250.0\n"
     ]
    }
   ],
   "source": [
    "if status == pywraplp.Solver.OPTIMAL:\n",
    "  print('Solução:')\n",
    "  print('Valor da função objetivo =', solver.Objective().Value())\n",
    "  print('t_1 =', t_1.solution_value())\n",
    "  print('t_2 =', t_2.solution_value())\n",
    "else:\n",
    "  print('O problema não tem solução ótima.')"
   ]
  }
 ],
 "metadata": {
  "kernelspec": {
   "display_name": "Python 3",
   "language": "python",
   "name": "python3"
  },
  "language_info": {
   "codemirror_mode": {
    "name": "ipython",
    "version": 3
   },
   "file_extension": ".py",
   "mimetype": "text/x-python",
   "name": "python",
   "nbconvert_exporter": "python",
   "pygments_lexer": "ipython3",
   "version": "3.9.6"
  }
 },
 "nbformat": 4,
 "nbformat_minor": 2
}
