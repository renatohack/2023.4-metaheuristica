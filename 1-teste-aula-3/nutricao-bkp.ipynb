{
 "cells": [
  {
   "cell_type": "code",
   "execution_count": 112,
   "metadata": {},
   "outputs": [
    {
     "name": "stdout",
     "output_type": "stream",
     "text": [
      "Requirement already satisfied: ortools in c:\\python39\\lib\\site-packages (9.7.2996)\n",
      "Requirement already satisfied: numpy>=1.13.3 in c:\\python39\\lib\\site-packages (from ortools) (1.26.1)\n",
      "Requirement already satisfied: absl-py>=0.13 in c:\\python39\\lib\\site-packages (from ortools) (2.0.0)\n",
      "Requirement already satisfied: protobuf>=4.23.3 in c:\\python39\\lib\\site-packages (from ortools) (4.24.4)\n"
     ]
    },
    {
     "name": "stderr",
     "output_type": "stream",
     "text": [
      "WARNING: You are using pip version 21.1.3; however, version 23.3.1 is available.\n",
      "You should consider upgrading via the 'c:\\python39\\python.exe -m pip install --upgrade pip' command.\n"
     ]
    }
   ],
   "source": [
    "!pip install ortools\n",
    "from alimento import Alimento"
   ]
  },
  {
   "cell_type": "code",
   "execution_count": 113,
   "metadata": {},
   "outputs": [],
   "source": [
    "from ortools.linear_solver import pywraplp\n",
    "solver = pywraplp.Solver.CreateSolver('GLOP')"
   ]
  },
  {
   "cell_type": "code",
   "execution_count": 114,
   "metadata": {},
   "outputs": [],
   "source": [
    "arroz = Alimento(\"arroz\", 28.1, 1.6, 2.5, 4, 0, 0, 0.25)\n",
    "pao = Alimento(\"pao\", 74.6, 3.4, 10.5, 19, 0.38, 0, 1.50)\n",
    "farinha = Alimento(\"farinha\", 75.8, 4.8, 11.4, 35, 0.25, 0.09, 0.60)\n",
    "batata = Alimento(\"batata\", 11.9, 1.3, 1.2, 4, 0.05, 0.08, 0.25)\n",
    "brocolis = Alimento(\"brocolis\", 4.4, 3.4, 2.1, 51, 0.04, 0, 1.30)\n",
    "tomate = Alimento(\"tomate\", 3.1, 1.2, 1.1, 7, 0.12, 0.02, 0.50)\n",
    "banana = Alimento(\"banana\", 23.8, 1.9, 1.4, 3, 0, 0.14, 0.25)\n",
    "figo = Alimento(\"figo\", 10.2, 1.8, 1.0, 27, 0.05, 0, 0.60)\n",
    "peixe = Alimento(\"peixe\", 0, 0, 26.6, 36, 0.05, 0, 2.20)\n",
    "frango = Alimento(\"peixe\", 0, 0, 31.5, 5, 0.1, 0, 1.20)\n",
    "\n",
    "list_alimentos = [arroz, pao, farinha, batata, brocolis, tomate, banana, figo, peixe, frango]\n"
   ]
  },
  {
   "cell_type": "code",
   "execution_count": 115,
   "metadata": {},
   "outputs": [
    {
     "name": "stdout",
     "output_type": "stream",
     "text": [
      "Nº de variáveis = 10\n"
     ]
    }
   ],
   "source": [
    "arroz.qty = solver.NumVar(0, solver.infinity(), \"arroz\")\n",
    "pao.qty = solver.NumVar(0, solver.infinity(), \"pao\")\n",
    "farinha.qty = solver.NumVar(0, solver.infinity(), \"farinha\")\n",
    "batata.qty = solver.NumVar(0, solver.infinity(), \"batata\")\n",
    "brocolis.qty = solver.NumVar(0, solver.infinity(), \"brocolis\")\n",
    "tomate.qty = solver.NumVar(0, solver.infinity(), \"tomate\")\n",
    "banana.qty = solver.NumVar(0, solver.infinity(), \"banana\")\n",
    "figo.qty = solver.NumVar(0, solver.infinity(), \"figo\")\n",
    "peixe.qty = solver.NumVar(0, solver.infinity(), \"peixe\")\n",
    "frango.qty = solver.NumVar(0, solver.infinity(), \"frango\")\n",
    "\n",
    "print('Nº de variáveis =', solver.NumVariables())"
   ]
  },
  {
   "cell_type": "code",
   "execution_count": 116,
   "metadata": {},
   "outputs": [
    {
     "name": "stdout",
     "output_type": "stream",
     "text": [
      "Nº de restrições = 12\n"
     ]
    }
   ],
   "source": [
    "# quantidade\n",
    "# qty_total = sum(alimento.qty for alimento in list_alimentos)\n",
    "qty_total = arroz.qty + pao.qty + farinha.qty + batata.qty + brocolis.qty + tomate.qty + banana.qty + figo.qty + peixe.qty + frango.qty\n",
    "solver.Add(qty_total <= 18)\n",
    "\n",
    "# carb\n",
    "# carb_total =  sum(alimento.qty * alimento.carb for alimento in list_alimentos)\n",
    "carb_total = (arroz.qty * arroz.carb) + (pao.qty * pao.carb) + (farinha.qty * farinha.carb) + (batata.qty * batata.carb) + (brocolis.qty * brocolis.carb) + (tomate.qty * tomate.carb) + (banana.qty * banana.carb) + (figo.qty * figo.carb) + (peixe.qty * peixe.carb) + (frango.qty * frango.carb)\n",
    "solver.Add(carb_total >= 268)\n",
    "solver.Add(carb_total <= 387)\n",
    "\n",
    "# fibra\n",
    "# fibra_total =  sum(alimento.qty * alimento.fibra for alimento in list_alimentos)\n",
    "fibra_total = (arroz.qty * arroz.fibra) + (pao.qty * pao.fibra) + (farinha.qty * farinha.fibra) + (batata.qty * batata.fibra) + (brocolis.qty * brocolis.fibra) + (tomate.qty * tomate.fibra) + (banana.qty * banana.fibra) + (figo.qty * figo.fibra) + (peixe.qty * peixe.fibra) + (frango.qty * frango.fibra)\n",
    "solver.Add(fibra_total >= 25)\n",
    "solver.Add(fibra_total <= 50)\n",
    "\n",
    "# prot\n",
    "# prot_total =  sum(alimento.qty * alimento.prot for alimento in list_alimentos)\n",
    "prot_total = (arroz.qty * arroz.prot) + (pao.qty * pao.prot) + (farinha.qty * farinha.prot) + (batata.qty * batata.prot) + (brocolis.qty * brocolis.prot) + (tomate.qty * tomate.prot) + (banana.qty * banana.prot) + (figo.qty * figo.prot) + (peixe.qty * peixe.prot) + (frango.qty * frango.prot)\n",
    "solver.Add(prot_total >= 90)\n",
    "solver.Add(prot_total <= 100)\n",
    "\n",
    "# calcio\n",
    "# calcio_total =  sum(alimento.qty * alimento.calcio for alimento in list_alimentos)\n",
    "calcio_total = (arroz.qty * arroz.calcio) + (pao.qty * pao.calcio) + (farinha.qty * farinha.calcio) + (batata.qty * batata.calcio) + (brocolis.qty * brocolis.calcio) + (tomate.qty * tomate.calcio) + (banana.qty * banana.calcio) + (figo.qty * figo.calcio) + (peixe.qty * peixe.calcio) + (frango.qty * frango.calcio)\n",
    "solver.Add(calcio_total >= 300)\n",
    "solver.Add(calcio_total <= 2500)\n",
    "\n",
    "# b1\n",
    "# b1_total =  sum(alimento.qty * alimento.b1 for alimento in list_alimentos)\n",
    "b1_total = (arroz.qty * arroz.b1) + (pao.qty * pao.b1) + (farinha.qty * farinha.b1) + (batata.qty * batata.b1) + (brocolis.qty * brocolis.b1) + (tomate.qty * tomate.b1) + (banana.qty * banana.b1) + (figo.qty * figo.b1) + (peixe.qty * peixe.b1) + (frango.qty * frango.b1)\n",
    "solver.Add(b1_total >= 1.2)\n",
    "\n",
    "# b6\n",
    "# b6_total =  sum(alimento.qty * alimento.b6 for alimento in list_alimentos)\n",
    "b6_total = (arroz.qty * arroz.b6) + (pao.qty * pao.b6) + (farinha.qty * farinha.b6) + (batata.qty * batata.b6) + (brocolis.qty * brocolis.b6) + (tomate.qty * tomate.b6) + (banana.qty * banana.b6) + (figo.qty * figo.b6) + (peixe.qty * peixe.b6) + (frango.qty * frango.b6)\n",
    "solver.Add(b6_total >= 1.3)\n",
    "solver.Add(b6_total <= 100)\n",
    "\n",
    "print('Nº de restrições =', solver.NumConstraints())"
   ]
  },
  {
   "cell_type": "code",
   "execution_count": 117,
   "metadata": {},
   "outputs": [],
   "source": [
    "# preco_total\n",
    "# preco_total =  sum(alimento.qty * alimento.preco for alimento in list_alimentos)\n",
    "preco_total = (arroz.qty * arroz.preco) + (pao.qty * pao.preco) + (farinha.qty * farinha.preco) + (batata.qty * batata.preco) + (brocolis.qty * brocolis.preco) + (tomate.qty * tomate.preco) + (banana.qty * banana.preco) + (figo.qty * figo.preco) + (peixe.qty * peixe.preco) + (frango.qty * frango.preco)\n",
    "solver.Minimize(preco_total)\n",
    "status = solver.Solve()"
   ]
  },
  {
   "cell_type": "code",
   "execution_count": 118,
   "metadata": {},
   "outputs": [
    {
     "name": "stdout",
     "output_type": "stream",
     "text": [
      "Solução:\n",
      "Valor da função objetivo = 9.816282439608095\n",
      "arroz = 0.0\n",
      "pao = 0.0\n",
      "farinha = 2.664452895424725\n",
      "batata = 5.549344154145819\n",
      "brocolis = 3.2351102020118327\n",
      "tomate = 0.0\n",
      "banana = 4.401797907715066\n",
      "figo = 0.0\n",
      "peixe = 0.0\n",
      "frango = 1.2701516035605462\n"
     ]
    }
   ],
   "source": [
    "if status == pywraplp.Solver.OPTIMAL:\n",
    "  print('Solução:')\n",
    "  print('Valor da função objetivo =', solver.Objective().Value())\n",
    "  print('arroz =', arroz.qty.solution_value())\n",
    "  print('pao =', pao.qty.solution_value())\n",
    "  print('farinha =', farinha.qty.solution_value())\n",
    "  print('batata =', batata.qty.solution_value())\n",
    "  print('brocolis =', brocolis.qty.solution_value())\n",
    "  print('tomate =', tomate.qty.solution_value())\n",
    "  print('banana =', banana.qty.solution_value())\n",
    "  print('figo =', figo.qty.solution_value())\n",
    "  print('peixe =', peixe.qty.solution_value())\n",
    "  print('frango =', frango.qty.solution_value())\n",
    "else:\n",
    "  print('O problema não tem solução ótima.')"
   ]
  }
 ],
 "metadata": {
  "kernelspec": {
   "display_name": "Python 3",
   "language": "python",
   "name": "python3"
  },
  "language_info": {
   "codemirror_mode": {
    "name": "ipython",
    "version": 3
   },
   "file_extension": ".py",
   "mimetype": "text/x-python",
   "name": "python",
   "nbconvert_exporter": "python",
   "pygments_lexer": "ipython3",
   "version": "3.9.6"
  }
 },
 "nbformat": 4,
 "nbformat_minor": 2
}
