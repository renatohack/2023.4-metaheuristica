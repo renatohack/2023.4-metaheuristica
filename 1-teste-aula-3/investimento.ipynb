{
 "cells": [
  {
   "cell_type": "code",
   "execution_count": 44,
   "metadata": {},
   "outputs": [
    {
     "name": "stdout",
     "output_type": "stream",
     "text": [
      "Requirement already satisfied: ortools in c:\\python39\\lib\\site-packages (9.7.2996)\n",
      "Requirement already satisfied: protobuf>=4.23.3 in c:\\python39\\lib\\site-packages (from ortools) (4.24.4)\n",
      "Requirement already satisfied: absl-py>=0.13 in c:\\python39\\lib\\site-packages (from ortools) (2.0.0)\n",
      "Requirement already satisfied: numpy>=1.13.3 in c:\\python39\\lib\\site-packages (from ortools) (1.26.1)\n"
     ]
    },
    {
     "name": "stderr",
     "output_type": "stream",
     "text": [
      "WARNING: You are using pip version 21.1.3; however, version 23.3.1 is available.\n",
      "You should consider upgrading via the 'c:\\python39\\python.exe -m pip install --upgrade pip' command.\n"
     ]
    }
   ],
   "source": [
    "!pip install ortools"
   ]
  },
  {
   "cell_type": "code",
   "execution_count": 45,
   "metadata": {},
   "outputs": [],
   "source": [
    "from ortools.linear_solver import pywraplp\n",
    "solver = pywraplp.Solver.CreateSolver('GLOP')"
   ]
  },
  {
   "cell_type": "code",
   "execution_count": 46,
   "metadata": {},
   "outputs": [
    {
     "name": "stdout",
     "output_type": "stream",
     "text": [
      "Nº de variáveis = 3\n"
     ]
    }
   ],
   "source": [
    "deb = solver.NumVar(0, 100_000, 't_1')\n",
    "rf = solver.NumVar(0, 100_000, 't_1')\n",
    "rdb = solver.NumVar(0, 100_000, 't_2')\n",
    "\n",
    "print('Nº de variáveis =', solver.NumVariables())"
   ]
  },
  {
   "cell_type": "code",
   "execution_count": 47,
   "metadata": {},
   "outputs": [
    {
     "name": "stdout",
     "output_type": "stream",
     "text": [
      "Nº de restrições = 3\n"
     ]
    }
   ],
   "source": [
    "solver.Add(deb <= 20_000)\n",
    "solver.Add(rf >= 30000)\n",
    "solver.Add(rdb <= 100_000 - deb - rf)\n",
    "\n",
    "print('Nº de restrições =', solver.NumConstraints())"
   ]
  },
  {
   "cell_type": "code",
   "execution_count": 48,
   "metadata": {},
   "outputs": [],
   "source": [
    "solver.Maximize((2.3 * deb + 1 * rf + 1.5 * rdb) / 100)\n",
    "status = solver.Solve()"
   ]
  },
  {
   "cell_type": "code",
   "execution_count": 49,
   "metadata": {},
   "outputs": [
    {
     "name": "stdout",
     "output_type": "stream",
     "text": [
      "Solução:\n",
      "Valor da função objetivo = 1510.0\n",
      "deb = 20000.0\n",
      "rf = 30000.0\n",
      "rdb = 50000.0\n"
     ]
    }
   ],
   "source": [
    "if status == pywraplp.Solver.OPTIMAL:\n",
    "  print('Solução:')\n",
    "  print('Valor da função objetivo =', solver.Objective().Value())\n",
    "  print('deb =', deb.solution_value())\n",
    "  print('rf =', rf.solution_value())\n",
    "  print('rdb =', rdb.solution_value())\n",
    "else:\n",
    "  print('O problema não tem solução ótima.')"
   ]
  }
 ],
 "metadata": {
  "kernelspec": {
   "display_name": "Python 3",
   "language": "python",
   "name": "python3"
  },
  "language_info": {
   "codemirror_mode": {
    "name": "ipython",
    "version": 3
   },
   "file_extension": ".py",
   "mimetype": "text/x-python",
   "name": "python",
   "nbconvert_exporter": "python",
   "pygments_lexer": "ipython3",
   "version": "3.9.6"
  }
 },
 "nbformat": 4,
 "nbformat_minor": 2
}
