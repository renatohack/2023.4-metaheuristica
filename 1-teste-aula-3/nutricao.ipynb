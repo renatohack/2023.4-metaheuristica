{
 "cells": [
  {
   "cell_type": "code",
   "execution_count": 25,
   "metadata": {},
   "outputs": [
    {
     "name": "stdout",
     "output_type": "stream",
     "text": [
      "Requirement already satisfied: ortools in c:\\python39\\lib\\site-packages (9.7.2996)\n",
      "Requirement already satisfied: absl-py>=0.13 in c:\\python39\\lib\\site-packages (from ortools) (2.0.0)\n",
      "Requirement already satisfied: protobuf>=4.23.3 in c:\\python39\\lib\\site-packages (from ortools) (4.24.4)\n",
      "Requirement already satisfied: numpy>=1.13.3 in c:\\python39\\lib\\site-packages (from ortools) (1.26.1)\n"
     ]
    },
    {
     "name": "stderr",
     "output_type": "stream",
     "text": [
      "WARNING: You are using pip version 21.1.3; however, version 23.3.1 is available.\n",
      "You should consider upgrading via the 'c:\\python39\\python.exe -m pip install --upgrade pip' command.\n"
     ]
    }
   ],
   "source": [
    "!pip install ortools\n",
    "from alimento import Alimento"
   ]
  },
  {
   "cell_type": "code",
   "execution_count": 26,
   "metadata": {},
   "outputs": [],
   "source": [
    "from ortools.linear_solver import pywraplp\n",
    "solver = pywraplp.Solver.CreateSolver('GLOP')\n",
    "solver = pywraplp.Solver.CreateSolver('SCIP')"
   ]
  },
  {
   "cell_type": "code",
   "execution_count": 27,
   "metadata": {},
   "outputs": [
    {
     "name": "stdout",
     "output_type": "stream",
     "text": [
      "Nº de variáveis = 10\n"
     ]
    }
   ],
   "source": [
    "arroz = solver.IntVar(0, 18, \"arroz\")\n",
    "pao = solver.IntVar(0, 18, \"pao\")\n",
    "farinha = solver.IntVar(0, 18, \"farinha\")\n",
    "batata = solver.IntVar(0, 18, \"batata\")\n",
    "brocolis = solver.IntVar(0, 18, \"brocolis\")\n",
    "tomate = solver.IntVar(0, 18, \"tomate\")\n",
    "banana = solver.IntVar(0, 18, \"banana\")\n",
    "figo = solver.IntVar(0, 18, \"figo\")\n",
    "peixe = solver.IntVar(0, 18, \"peixe\")\n",
    "frango = solver.IntVar(0, 18, \"frango\")\n",
    "\n",
    "print('Nº de variáveis =', solver.NumVariables())"
   ]
  },
  {
   "cell_type": "code",
   "execution_count": 28,
   "metadata": {},
   "outputs": [
    {
     "name": "stdout",
     "output_type": "stream",
     "text": [
      "Nº de restrições = 12\n"
     ]
    }
   ],
   "source": [
    "# quantidade\n",
    "solver.Add(arroz + pao + farinha + batata + brocolis + tomate + banana + figo + peixe + frango <= 18)\n",
    "\n",
    "# carboidrato\n",
    "solver.Add(arroz * 28.1 + pao * 74.6 + farinha * 75.8 + batata * 11.9 + brocolis * 4.4 + tomate * 3.1 + banana * 23.8 + figo * 10.2 >= 268)\n",
    "solver.Add(arroz * 28.1 + pao * 74.6 + farinha * 75.8 + batata * 11.9 + brocolis * 4.4 + tomate * 3.1 + banana * 23.8 + figo * 10.2 <= 387)\n",
    "\n",
    "# fibras\n",
    "solver.Add(arroz * 1.6 + pao * 3.4 + farinha * 4.8 + batata * 1.3 + brocolis * 3.4 + tomate * 1.2 + banana * 1.9 + figo * 1.8 >= 25)\n",
    "solver.Add(arroz * 1.6 + pao * 3.4 + farinha * 4.8 + batata * 1.3 + brocolis * 3.4 + tomate * 1.2 + banana * 1.9 + figo * 1.8 <= 50)\n",
    "\n",
    "# proteina\n",
    "solver.Add(arroz * 2.5 + pao * 10.5 + farinha * 11.4 + batata * 1.2 + brocolis * 2.1 + tomate * 1.1 + banana * 1.4 + figo * 1.0 + peixe * 26.6 + frango * 31.5 >= 90)\n",
    "solver.Add(arroz * 2.5 + pao * 10.5 + farinha * 11.4 + batata * 1.2 + brocolis * 2.1 + tomate * 1.1 + banana * 1.4 + figo * 1.0 + peixe * 26.6 + frango * 31.5 <= 100)\n",
    "\n",
    "# calcio\n",
    "solver.Add(arroz * 4 + pao * 19 + farinha * 35 + batata * 4 + brocolis * 51 + tomate * 7 + banana * 3 + figo * 27 + peixe * 35 + frango * 5 >= 300)\n",
    "solver.Add(arroz * 4 + pao * 19 + farinha * 35 + batata * 4 + brocolis * 51 + tomate * 7 + banana * 3 + figo * 27 + peixe * 35 + frango * 5 <= 2500)\n",
    "\n",
    "# b1\n",
    "solver.Add(pao * 0.38 + farinha * 0.25 + batata * 0.05 + brocolis * 0.04 + tomate * 0.12 + figo * 0.05 + peixe * 0.05 + frango * 0.1 >= 1.2)\n",
    "\n",
    "# b6\n",
    "solver.Add(farinha * 0.09 + batata * 0.08 + tomate * 0.02 + banana * 0.14 >= 1.3)\n",
    "solver.Add(farinha * 0.09 + batata * 0.08 + tomate * 0.02 + banana * 0.14 <= 100)\n",
    "\n",
    "print('Nº de restrições =', solver.NumConstraints())"
   ]
  },
  {
   "cell_type": "code",
   "execution_count": 29,
   "metadata": {},
   "outputs": [],
   "source": [
    "# preco_total\n",
    "solver.Minimize(arroz * 0.25 + pao * 1.5 + farinha * 0.6 + batata * 0.25 + brocolis * 1.3 + tomate * 0.5 + banana * 0.25 + figo * 0.6 + peixe * 2.2 + frango * 1.2)\n",
    "status = solver.Solve()"
   ]
  },
  {
   "cell_type": "code",
   "execution_count": 30,
   "metadata": {},
   "outputs": [
    {
     "name": "stdout",
     "output_type": "stream",
     "text": [
      "Solução:\n",
      "Valor da função objetivo = 14.3\n",
      "arroz = 0.0\n",
      "pao = 2.0\n",
      "farinha = 0.0\n",
      "batata = 2.0\n",
      "brocolis = 3.0\n",
      "tomate = 1.0\n",
      "banana = 8.0\n",
      "figo = 0.0\n",
      "peixe = 2.0\n",
      "frango = 0.0\n"
     ]
    }
   ],
   "source": [
    "if status == pywraplp.Solver.OPTIMAL:\n",
    "  print('Solução:')\n",
    "  print('Valor da função objetivo =', solver.Objective().Value())\n",
    "  print('arroz =', arroz.solution_value())\n",
    "  print('pao =', pao.solution_value())\n",
    "  print('farinha =', farinha.solution_value())\n",
    "  print('batata =', batata.solution_value())\n",
    "  print('brocolis =', brocolis.solution_value())\n",
    "  print('tomate =', tomate.solution_value())\n",
    "  print('banana =', banana.solution_value())\n",
    "  print('figo =', figo.solution_value())\n",
    "  print('peixe =', peixe.solution_value())\n",
    "  print('frango =', frango.solution_value())\n",
    "else:\n",
    "  print('O problema não tem solução ótima.')"
   ]
  }
 ],
 "metadata": {
  "kernelspec": {
   "display_name": "Python 3",
   "language": "python",
   "name": "python3"
  },
  "language_info": {
   "codemirror_mode": {
    "name": "ipython",
    "version": 3
   },
   "file_extension": ".py",
   "mimetype": "text/x-python",
   "name": "python",
   "nbconvert_exporter": "python",
   "pygments_lexer": "ipython3",
   "version": "3.9.6"
  }
 },
 "nbformat": 4,
 "nbformat_minor": 2
}
